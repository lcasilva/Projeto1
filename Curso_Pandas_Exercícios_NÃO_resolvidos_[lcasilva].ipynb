{
  "nbformat": 4,
  "nbformat_minor": 0,
  "metadata": {
    "colab": {
      "provenance": [],
      "include_colab_link": true
    },
    "kernelspec": {
      "name": "python3",
      "display_name": "Python 3"
    },
    "language_info": {
      "name": "python"
    }
  },
  "cells": [
    {
      "cell_type": "markdown",
      "metadata": {
        "id": "view-in-github",
        "colab_type": "text"
      },
      "source": [
        "<a href=\"https://colab.research.google.com/github/lcasilva/Projeto1-Spam-Prediction/blob/main/Curso_Pandas_Exerc%C3%ADcios_N%C3%83O_resolvidos_%5Blcasilva%5D.ipynb\" target=\"_parent\"><img src=\"https://colab.research.google.com/assets/colab-badge.svg\" alt=\"Open In Colab\"/></a>"
      ]
    },
    {
      "cell_type": "markdown",
      "source": [
        "# Curso Pandas Exercícios NÃO Resolvidos\n",
        "\n"
      ],
      "metadata": {
        "id": "t42wBlxf0v-l"
      }
    },
    {
      "cell_type": "code",
      "source": [
        "!pip install pandas\n",
        "#!pip install pandas==1.5.3"
      ],
      "metadata": {
        "id": "TyhMeR2809Gv",
        "colab": {
          "base_uri": "https://localhost:8080/"
        },
        "outputId": "0fdf7de4-6b1d-4e69-9d2a-87e286fc694d"
      },
      "execution_count": 1,
      "outputs": [
        {
          "output_type": "stream",
          "name": "stdout",
          "text": [
            "Requirement already satisfied: pandas in /usr/local/lib/python3.10/dist-packages (2.2.2)\n",
            "Requirement already satisfied: numpy>=1.22.4 in /usr/local/lib/python3.10/dist-packages (from pandas) (1.26.4)\n",
            "Requirement already satisfied: python-dateutil>=2.8.2 in /usr/local/lib/python3.10/dist-packages (from pandas) (2.8.2)\n",
            "Requirement already satisfied: pytz>=2020.1 in /usr/local/lib/python3.10/dist-packages (from pandas) (2024.2)\n",
            "Requirement already satisfied: tzdata>=2022.7 in /usr/local/lib/python3.10/dist-packages (from pandas) (2024.2)\n",
            "Requirement already satisfied: six>=1.5 in /usr/local/lib/python3.10/dist-packages (from python-dateutil>=2.8.2->pandas) (1.16.0)\n"
          ]
        }
      ]
    },
    {
      "cell_type": "code",
      "source": [
        "import pandas as pd\n",
        "import numpy as np\n",
        "print(pd.__version__)\n",
        "print(np.__version__)"
      ],
      "metadata": {
        "id": "r5HOo85W0_Xh"
      },
      "execution_count": null,
      "outputs": []
    },
    {
      "cell_type": "markdown",
      "source": [
        "# Series\n",
        "\n",
        "- Base de dados: https://www.kaggle.com/datasets/rakannimer/air-passengers"
      ],
      "metadata": {
        "id": "yl4yi3lH0yhV"
      }
    },
    {
      "cell_type": "code",
      "source": [],
      "metadata": {
        "id": "PlJY15fI1zE-"
      },
      "execution_count": null,
      "outputs": []
    },
    {
      "cell_type": "code",
      "source": [],
      "metadata": {
        "id": "3X3GCZAL15pI"
      },
      "execution_count": null,
      "outputs": []
    },
    {
      "cell_type": "code",
      "source": [],
      "metadata": {
        "id": "d6_fFCn5185d"
      },
      "execution_count": null,
      "outputs": []
    },
    {
      "cell_type": "code",
      "source": [],
      "metadata": {
        "id": "8zFjnHSk2JWZ"
      },
      "execution_count": null,
      "outputs": []
    },
    {
      "cell_type": "code",
      "source": [],
      "metadata": {
        "id": "BpZnp75A2afW"
      },
      "execution_count": null,
      "outputs": []
    },
    {
      "cell_type": "code",
      "source": [],
      "metadata": {
        "id": "m6LYVKZT2_LG"
      },
      "execution_count": null,
      "outputs": []
    },
    {
      "cell_type": "code",
      "source": [],
      "metadata": {
        "id": "bRYlBvTm3diY"
      },
      "execution_count": null,
      "outputs": []
    },
    {
      "cell_type": "code",
      "source": [
        "# Número de dimensões\n"
      ],
      "metadata": {
        "id": "fN70DtR63gX1"
      },
      "execution_count": null,
      "outputs": []
    },
    {
      "cell_type": "code",
      "source": [],
      "metadata": {
        "id": "w90XEfEx3h2F"
      },
      "execution_count": null,
      "outputs": []
    },
    {
      "cell_type": "code",
      "source": [],
      "metadata": {
        "id": "vJm6BwQr4Gw5"
      },
      "execution_count": null,
      "outputs": []
    },
    {
      "cell_type": "code",
      "source": [],
      "metadata": {
        "id": "m1VCM4JU4Iaw"
      },
      "execution_count": null,
      "outputs": []
    },
    {
      "cell_type": "code",
      "source": [],
      "metadata": {
        "id": "ZOaGottR39Cl"
      },
      "execution_count": null,
      "outputs": []
    },
    {
      "cell_type": "code",
      "source": [],
      "metadata": {
        "id": "kUjOTDr54EQN"
      },
      "execution_count": null,
      "outputs": []
    },
    {
      "cell_type": "code",
      "source": [],
      "metadata": {
        "id": "rCP-eyzs4L8v"
      },
      "execution_count": null,
      "outputs": []
    },
    {
      "cell_type": "code",
      "source": [],
      "metadata": {
        "id": "lNNcavVV4ZYf"
      },
      "execution_count": null,
      "outputs": []
    },
    {
      "cell_type": "code",
      "source": [],
      "metadata": {
        "id": "VG2aI5NH4euY"
      },
      "execution_count": null,
      "outputs": []
    },
    {
      "cell_type": "code",
      "source": [
        "# Ordenação\n"
      ],
      "metadata": {
        "id": "kcHQHPnB4p_m"
      },
      "execution_count": null,
      "outputs": []
    },
    {
      "cell_type": "code",
      "source": [
        "# Ordenação\n"
      ],
      "metadata": {
        "id": "P84Oq4Jq4tQH"
      },
      "execution_count": null,
      "outputs": []
    },
    {
      "cell_type": "code",
      "source": [
        "# Ordenação do índice\n"
      ],
      "metadata": {
        "id": "UChbe_ty4175"
      },
      "execution_count": null,
      "outputs": []
    },
    {
      "cell_type": "code",
      "source": [
        "# Contagem\n"
      ],
      "metadata": {
        "id": "3WGApnXt46kH"
      },
      "execution_count": null,
      "outputs": []
    },
    {
      "cell_type": "code",
      "source": [
        "# Valores maiores do que 300\n"
      ],
      "metadata": {
        "id": "-qgWfL-75Fw5"
      },
      "execution_count": null,
      "outputs": []
    },
    {
      "cell_type": "code",
      "source": [],
      "metadata": {
        "id": "jvwQE4uL5OHp"
      },
      "execution_count": null,
      "outputs": []
    },
    {
      "cell_type": "code",
      "source": [
        "# Menores do que 1950-08\n"
      ],
      "metadata": {
        "id": "S-vyQ-Hf5VzI"
      },
      "execution_count": null,
      "outputs": []
    },
    {
      "cell_type": "code",
      "source": [
        "# Entre 1949-01 e 1950-01\n"
      ],
      "metadata": {
        "id": "jwiCXXwV5l_w"
      },
      "execution_count": null,
      "outputs": []
    },
    {
      "cell_type": "code",
      "source": [
        "# Somatório dos valores\n"
      ],
      "metadata": {
        "id": "-AINE6na6BAa"
      },
      "execution_count": null,
      "outputs": []
    },
    {
      "cell_type": "code",
      "source": [
        "# Média dos valores\n"
      ],
      "metadata": {
        "id": "d8Rwynje6ClP"
      },
      "execution_count": null,
      "outputs": []
    },
    {
      "cell_type": "code",
      "source": [
        "# Valor mínimo\n"
      ],
      "metadata": {
        "id": "ZkmQN1Dw6ESX"
      },
      "execution_count": null,
      "outputs": []
    },
    {
      "cell_type": "code",
      "source": [
        "# Valor máximo\n"
      ],
      "metadata": {
        "id": "nVRDqPtR6F30"
      },
      "execution_count": null,
      "outputs": []
    },
    {
      "cell_type": "code",
      "source": [
        "# Somatório do intervalo 1949-01 e 1949-12\n"
      ],
      "metadata": {
        "id": "P0q6iT5x6MlS"
      },
      "execution_count": null,
      "outputs": []
    },
    {
      "cell_type": "code",
      "source": [
        "# Valores únicos dos índices\n"
      ],
      "metadata": {
        "id": "fvHS6ys96X5k"
      },
      "execution_count": null,
      "outputs": []
    },
    {
      "cell_type": "code",
      "source": [
        "# Somatório de valores nulos\n"
      ],
      "metadata": {
        "id": "q3N0kPkb6jRW"
      },
      "execution_count": null,
      "outputs": []
    },
    {
      "cell_type": "code",
      "source": [],
      "metadata": {
        "id": "3WugMgAa7iUw"
      },
      "execution_count": null,
      "outputs": []
    },
    {
      "cell_type": "code",
      "source": [
        "# Pesquise sobre o pd.DatetimeIndex para extrair o mês do índice\n"
      ],
      "metadata": {
        "id": "G_LTeEAP69k9"
      },
      "execution_count": null,
      "outputs": []
    },
    {
      "cell_type": "code",
      "source": [
        "# Pesquise sobre o pd.DatetimeIndex para extrair o ano do índice\n"
      ],
      "metadata": {
        "id": "U4Phm7wY7lKK"
      },
      "execution_count": null,
      "outputs": []
    },
    {
      "cell_type": "code",
      "source": [
        "# Somatório dos valores com mês 07\n"
      ],
      "metadata": {
        "id": "0Wba5zIL7tqq"
      },
      "execution_count": null,
      "outputs": []
    },
    {
      "cell_type": "code",
      "source": [
        "# Somatório do ano de 1950\n"
      ],
      "metadata": {
        "id": "VFtRsPMH8QfK"
      },
      "execution_count": null,
      "outputs": []
    },
    {
      "cell_type": "markdown",
      "source": [
        "# Dataframe"
      ],
      "metadata": {
        "id": "cnAtn6IhXnbz"
      }
    },
    {
      "cell_type": "markdown",
      "source": [
        "- Faça a leitura da base games.csv, mostrando as informações básicas"
      ],
      "metadata": {
        "id": "5H-udgI4wCP9"
      }
    },
    {
      "cell_type": "code",
      "source": [],
      "metadata": {
        "id": "P4t-gRirYKmF"
      },
      "execution_count": null,
      "outputs": []
    },
    {
      "cell_type": "code",
      "source": [],
      "metadata": {
        "id": "uJ1Y-HxHYOUo"
      },
      "execution_count": null,
      "outputs": []
    },
    {
      "cell_type": "code",
      "source": [],
      "metadata": {
        "id": "kMC1iAPYYXp7"
      },
      "execution_count": null,
      "outputs": []
    },
    {
      "cell_type": "markdown",
      "source": [
        "- Estatísticas básicas"
      ],
      "metadata": {
        "id": "xqY2PEMswL24"
      }
    },
    {
      "cell_type": "code",
      "source": [],
      "metadata": {
        "id": "OG4m7siGYmXx"
      },
      "execution_count": null,
      "outputs": []
    },
    {
      "cell_type": "code",
      "source": [],
      "metadata": {
        "id": "is4ReXqRY4UL"
      },
      "execution_count": null,
      "outputs": []
    },
    {
      "cell_type": "code",
      "source": [],
      "metadata": {
        "id": "YLDvoSstY7qO"
      },
      "execution_count": null,
      "outputs": []
    },
    {
      "cell_type": "markdown",
      "source": [
        "- Somatório de valores nulos"
      ],
      "metadata": {
        "id": "yp7Z6EdDwPX3"
      }
    },
    {
      "cell_type": "code",
      "source": [],
      "metadata": {
        "id": "eIShBSZJZBj0"
      },
      "execution_count": null,
      "outputs": []
    },
    {
      "cell_type": "markdown",
      "source": [
        "- Apagar todos os registros com valores nulos"
      ],
      "metadata": {
        "id": "qpsFLOAWwSjr"
      }
    },
    {
      "cell_type": "code",
      "source": [],
      "metadata": {
        "id": "DsvYhjH_ZUuk"
      },
      "execution_count": null,
      "outputs": []
    },
    {
      "cell_type": "code",
      "source": [],
      "metadata": {
        "id": "t9zSydASZXch"
      },
      "execution_count": null,
      "outputs": []
    },
    {
      "cell_type": "code",
      "source": [],
      "metadata": {
        "id": "GOgC_hXEZZHH"
      },
      "execution_count": null,
      "outputs": []
    },
    {
      "cell_type": "markdown",
      "source": [
        "- Verificar a existência de linhas duplicadas"
      ],
      "metadata": {
        "id": "fCP5dOr1wWYG"
      }
    },
    {
      "cell_type": "code",
      "source": [],
      "metadata": {
        "id": "dqeRBi3VaRCL"
      },
      "execution_count": null,
      "outputs": []
    },
    {
      "cell_type": "code",
      "source": [],
      "metadata": {
        "id": "lRnkmtVdZdql"
      },
      "execution_count": null,
      "outputs": []
    },
    {
      "cell_type": "markdown",
      "source": [
        "- Fazer a conversão dos tipos de dados, conforme os tipos listados abaixo"
      ],
      "metadata": {
        "id": "monv04sEwhlp"
      }
    },
    {
      "cell_type": "code",
      "source": [],
      "metadata": {
        "id": "2L3_tzBCal5b"
      },
      "execution_count": null,
      "outputs": []
    },
    {
      "cell_type": "code",
      "source": [],
      "metadata": {
        "id": "cE46SrTbbDvm"
      },
      "execution_count": null,
      "outputs": []
    },
    {
      "cell_type": "code",
      "source": [],
      "metadata": {
        "id": "vgLQQxANbHCU"
      },
      "execution_count": null,
      "outputs": []
    },
    {
      "cell_type": "markdown",
      "source": [
        "- Criar uma função para atualizar o atributo User_Score, para deixá-lo na mesma escala do atributo Critic_Score (somente multiplicar por 10)\n",
        "- Use a função apply para realizar a alteração"
      ],
      "metadata": {
        "id": "E4KBpAvGwsC0"
      }
    },
    {
      "cell_type": "code",
      "source": [],
      "metadata": {
        "id": "2JrO2krGb6Og"
      },
      "execution_count": null,
      "outputs": []
    },
    {
      "cell_type": "code",
      "source": [],
      "metadata": {
        "id": "cIR-6nrbcBxi"
      },
      "execution_count": null,
      "outputs": []
    },
    {
      "cell_type": "code",
      "source": [],
      "metadata": {
        "id": "i4pD04DHcc7M"
      },
      "execution_count": null,
      "outputs": []
    },
    {
      "cell_type": "code",
      "source": [],
      "metadata": {
        "id": "OikX9vp6dh4T"
      },
      "execution_count": null,
      "outputs": []
    },
    {
      "cell_type": "markdown",
      "source": [
        "- Apagar as colunas [\"NA_Sales\", \"JP_Sales\", \"EU_Sales\", \"Other_Sales\", \"Critic_Count\", \"User_Count\"]"
      ],
      "metadata": {
        "id": "ALflpORlxPTL"
      }
    },
    {
      "cell_type": "code",
      "source": [],
      "metadata": {
        "id": "4ZAeTIKzeGnq"
      },
      "execution_count": null,
      "outputs": []
    },
    {
      "cell_type": "code",
      "source": [],
      "metadata": {
        "id": "_PTqe5WMeihb"
      },
      "execution_count": null,
      "outputs": []
    },
    {
      "cell_type": "markdown",
      "source": [
        "- Mostrar a contagem de valores de cada coluna categórica"
      ],
      "metadata": {
        "id": "ZVa3cGanxVm7"
      }
    },
    {
      "cell_type": "code",
      "source": [],
      "metadata": {
        "id": "poRySjrCe_qs"
      },
      "execution_count": null,
      "outputs": []
    },
    {
      "cell_type": "markdown",
      "source": [
        "- Os 5 jogos mais vendidos"
      ],
      "metadata": {
        "id": "7wNYE0ZCxbRn"
      }
    },
    {
      "cell_type": "code",
      "source": [],
      "metadata": {
        "id": "KqFfvYd2fa3V"
      },
      "execution_count": null,
      "outputs": []
    },
    {
      "cell_type": "markdown",
      "source": [
        "- Os 5 jogos menos vendidos"
      ],
      "metadata": {
        "id": "MV0tvr_0xfYB"
      }
    },
    {
      "cell_type": "code",
      "source": [],
      "metadata": {
        "id": "xDVeMxKVfv_d"
      },
      "execution_count": null,
      "outputs": []
    },
    {
      "cell_type": "markdown",
      "source": [
        "- Todos os jogos de PS4, mostrando somente as colunas name, year_of_release e developer"
      ],
      "metadata": {
        "id": "dYTcmuKPxhiW"
      }
    },
    {
      "cell_type": "code",
      "source": [],
      "metadata": {
        "id": "Ls_d8vrQfyx6"
      },
      "execution_count": null,
      "outputs": []
    },
    {
      "cell_type": "markdown",
      "source": [
        "- Os jogos de PS4 com o User_Score maior do que 90"
      ],
      "metadata": {
        "id": "Jle_jhwIxvRU"
      }
    },
    {
      "cell_type": "code",
      "source": [],
      "metadata": {
        "id": "gjVIFSMggY1P"
      },
      "execution_count": null,
      "outputs": []
    },
    {
      "cell_type": "markdown",
      "source": [
        "- Os jogos de PS4 com User_Score maior que 85 (utilize a função query)"
      ],
      "metadata": {
        "id": "FUwnzsMSx2lS"
      }
    },
    {
      "cell_type": "code",
      "source": [],
      "metadata": {
        "id": "hxj8wSsvgoAU"
      },
      "execution_count": null,
      "outputs": []
    },
    {
      "cell_type": "markdown",
      "source": [
        "- Crie uma nova coluna, que seja a média de Critic_Score e User_Score"
      ],
      "metadata": {
        "id": "jy7iAExqx9RX"
      }
    },
    {
      "cell_type": "code",
      "source": [],
      "metadata": {
        "id": "H6mOMkquhZO1"
      },
      "execution_count": null,
      "outputs": []
    },
    {
      "cell_type": "markdown",
      "source": [
        "- Apague os atributos Critic_Score e User_Score"
      ],
      "metadata": {
        "id": "i62FIronyCbw"
      }
    },
    {
      "cell_type": "code",
      "source": [],
      "metadata": {
        "id": "wy2v_5ikhjrn"
      },
      "execution_count": null,
      "outputs": []
    },
    {
      "cell_type": "code",
      "source": [],
      "metadata": {
        "id": "o68tCd6lhrxK"
      },
      "execution_count": null,
      "outputs": []
    },
    {
      "cell_type": "code",
      "source": [],
      "metadata": {
        "id": "TLdCOQ_Ai8wY"
      },
      "execution_count": null,
      "outputs": []
    },
    {
      "cell_type": "code",
      "source": [],
      "metadata": {
        "id": "oHVHCaJli-l-"
      },
      "execution_count": null,
      "outputs": []
    },
    {
      "cell_type": "markdown",
      "source": [
        "- Reposicione as colunas conforme a ordem abaixo"
      ],
      "metadata": {
        "id": "PuXIZqqmyJDt"
      }
    },
    {
      "cell_type": "code",
      "source": [],
      "metadata": {
        "id": "2MfgSVoZjIPA"
      },
      "execution_count": null,
      "outputs": []
    },
    {
      "cell_type": "code",
      "source": [],
      "metadata": {
        "id": "sBmbSzpJjspC"
      },
      "execution_count": null,
      "outputs": []
    },
    {
      "cell_type": "markdown",
      "source": [
        "- Altere o tipo de todas as colunas categórias para o tipo \"category\""
      ],
      "metadata": {
        "id": "6qA2W7z1yOEm"
      }
    },
    {
      "cell_type": "code",
      "source": [],
      "metadata": {
        "id": "iEG8e-dVjvKX"
      },
      "execution_count": null,
      "outputs": []
    },
    {
      "cell_type": "markdown",
      "source": [
        "- Verique a quantidade de memória utilizada"
      ],
      "metadata": {
        "id": "WL6JHD9ZyTKU"
      }
    },
    {
      "cell_type": "code",
      "source": [],
      "metadata": {
        "id": "os0kD7Ytj-KQ"
      },
      "execution_count": null,
      "outputs": []
    },
    {
      "cell_type": "markdown",
      "source": [
        "- O somatório de Global_Sales"
      ],
      "metadata": {
        "id": "wJlgGvAkyXaP"
      }
    },
    {
      "cell_type": "code",
      "source": [],
      "metadata": {
        "id": "DkMvfgDikQll"
      },
      "execution_count": null,
      "outputs": []
    },
    {
      "cell_type": "markdown",
      "source": [
        "- A média de Global Sales"
      ],
      "metadata": {
        "id": "rq2RmbG1yaDJ"
      }
    },
    {
      "cell_type": "code",
      "source": [],
      "metadata": {
        "id": "Q7H6gA55knpg"
      },
      "execution_count": null,
      "outputs": []
    },
    {
      "cell_type": "markdown",
      "source": [
        "- Os valores únicos de Platform"
      ],
      "metadata": {
        "id": "lPETAAiOydZH"
      }
    },
    {
      "cell_type": "code",
      "source": [],
      "metadata": {
        "id": "1mLF-ISQktVW"
      },
      "execution_count": null,
      "outputs": []
    },
    {
      "cell_type": "markdown",
      "source": [
        "- Agrupamento de Platform por Global Sales"
      ],
      "metadata": {
        "id": "ucGCKIaCygOk"
      }
    },
    {
      "cell_type": "code",
      "source": [],
      "metadata": {
        "id": "7lcwAfSbkx2I"
      },
      "execution_count": null,
      "outputs": []
    },
    {
      "cell_type": "markdown",
      "source": [
        "- Agrupamento de Genre e Platform, mostrando a média dos outros atributos (função agg)"
      ],
      "metadata": {
        "id": "Zo9k78ZLykaz"
      }
    },
    {
      "cell_type": "code",
      "source": [],
      "metadata": {
        "id": "NUQwGjV3lEqa"
      },
      "execution_count": null,
      "outputs": []
    },
    {
      "cell_type": "markdown",
      "source": [
        "- A contagem de vendas por gênero"
      ],
      "metadata": {
        "id": "wV4jjUvtysNF"
      }
    },
    {
      "cell_type": "code",
      "source": [],
      "metadata": {
        "id": "gONnyb-ylMdw"
      },
      "execution_count": null,
      "outputs": []
    },
    {
      "cell_type": "markdown",
      "source": [
        "- A média de Global Sales pelo gênero"
      ],
      "metadata": {
        "id": "elV1MvSFyvdW"
      }
    },
    {
      "cell_type": "code",
      "source": [],
      "metadata": {
        "id": "q6TbGYVLlXTC"
      },
      "execution_count": null,
      "outputs": []
    },
    {
      "cell_type": "markdown",
      "source": [
        "- Adicione uma nova coluna com a média do Score (função transform)"
      ],
      "metadata": {
        "id": "wmm1b7cGy2U2"
      }
    },
    {
      "cell_type": "code",
      "source": [],
      "metadata": {
        "id": "TX5oshc8uP0u"
      },
      "execution_count": null,
      "outputs": []
    },
    {
      "cell_type": "markdown",
      "source": [
        "- Crie uma tabela pivot para representar os dados conforme a tabela abaixo"
      ],
      "metadata": {
        "id": "VSVZ-9h0y8ip"
      }
    },
    {
      "cell_type": "code",
      "source": [],
      "metadata": {
        "id": "aPaVxCiYupJQ"
      },
      "execution_count": null,
      "outputs": []
    },
    {
      "cell_type": "markdown",
      "source": [
        "# Gráficos"
      ],
      "metadata": {
        "id": "aIufoGW9AQRB"
      }
    },
    {
      "cell_type": "markdown",
      "source": [
        "- Carregamento da base games.csv e apagando os valores faltantes"
      ],
      "metadata": {
        "id": "HBQY_Q4VFYUE"
      }
    },
    {
      "cell_type": "code",
      "source": [],
      "metadata": {
        "id": "RFUiC4zbAuzd"
      },
      "execution_count": null,
      "outputs": []
    },
    {
      "cell_type": "code",
      "source": [],
      "metadata": {
        "id": "7PObiZ7-BCFz"
      },
      "execution_count": null,
      "outputs": []
    },
    {
      "cell_type": "markdown",
      "source": [
        "- Visualização de subgráficos dos atributos numéricos"
      ],
      "metadata": {
        "id": "A-c2L1pfFtYB"
      }
    },
    {
      "cell_type": "code",
      "source": [],
      "metadata": {
        "id": "1ifdKbswDGCf"
      },
      "execution_count": null,
      "outputs": []
    },
    {
      "cell_type": "markdown",
      "source": [
        "- Contagem dos valores únicos do atributo Platform"
      ],
      "metadata": {
        "id": "j1KFCep1FyT3"
      }
    },
    {
      "cell_type": "code",
      "source": [],
      "metadata": {
        "id": "GmJIx6wqDfaZ"
      },
      "execution_count": null,
      "outputs": []
    },
    {
      "cell_type": "markdown",
      "source": [
        "- Quantidade de jogos por plataforma"
      ],
      "metadata": {
        "id": "i7BP6hKiF2Gg"
      }
    },
    {
      "cell_type": "code",
      "source": [],
      "metadata": {
        "id": "9aDpa0rADktT"
      },
      "execution_count": null,
      "outputs": []
    },
    {
      "cell_type": "markdown",
      "source": [
        "- Gráfico de pizza da contagem de jogos por plataforma"
      ],
      "metadata": {
        "id": "iVlUSIrHF6oe"
      }
    },
    {
      "cell_type": "code",
      "source": [],
      "metadata": {
        "id": "gvKlyrnZD1mr"
      },
      "execution_count": null,
      "outputs": []
    },
    {
      "cell_type": "markdown",
      "source": [
        "- Visualização das colunas da base de dados"
      ],
      "metadata": {
        "id": "mSrQGuGiGZ8y"
      }
    },
    {
      "cell_type": "code",
      "source": [],
      "metadata": {
        "id": "ZVoHRhbwEV_E"
      },
      "execution_count": null,
      "outputs": []
    },
    {
      "cell_type": "markdown",
      "source": [
        "- Gráfico de dispersão entre Critic_Score e Global_Sales"
      ],
      "metadata": {
        "id": "ttg-9q43GdDS"
      }
    },
    {
      "cell_type": "code",
      "source": [],
      "metadata": {
        "id": "LV6T-fs-EahW"
      },
      "execution_count": null,
      "outputs": []
    },
    {
      "cell_type": "markdown",
      "source": [
        "- Histograma da coluna Critic_Score"
      ],
      "metadata": {
        "id": "SzPcDNLPGhP1"
      }
    },
    {
      "cell_type": "code",
      "source": [],
      "metadata": {
        "id": "tTyiSFVuE16s"
      },
      "execution_count": null,
      "outputs": []
    }
  ]
}